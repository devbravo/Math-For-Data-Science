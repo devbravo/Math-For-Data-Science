{
 "cells": [
  {
   "cell_type": "markdown",
   "metadata": {},
   "source": [
    "## Probability\n",
    "\n",
    "**Probability** is how strongly we believe an event will happen, often expressed as a percentage. Probabilty is often expressed as a percentage, as in \"There is a 70% chance my flight will be late.\" We will call this probability P(X)\n",
    "\n",
    "**Likelihood** is measuring the frequency of events that already occurred. \n",
    "\n",
    "In statistics and machine learning, we often use likelihood (the past) in the form of data to predict probability (the future)\n",
    "\n",
    "if $$P(X) = .70$$\n",
    "$$P(not X) = 1 - P(X) = .30$$\n",
    "\n"
   ]
  },
  {
   "cell_type": "markdown",
   "metadata": {},
   "source": [
    "Another distinction between probability and lilkelihood is that probability is a value between 0 and 1, while likelihood can be any positive number.\n",
    "\n",
    "Alternatively, probability can be expressed as an odds O(x) such as 7:3, 7/3, or 2.333\n",
    "\n",
    "To turn an odds O(X) into a proportional probability P(X), use the following formula:\n",
    "\n",
    "$$P(X) = \\frac{O(X)}{1 + O(X)}$$\n",
    "\n",
    "e.g O(X) = 7:3 = 7/3 = 2.333 to convert to a proportional probability we would calculate:\n",
    "$$ P(X) = \\frac{\\frac{7}{3}}{1 + \\frac{7}{3}}$$\n",
    "$$ P(X) = .7$$\n",
    "\n",
    "Conversely, you can turn a probability into an odds by simply dividing the probability of the event occurring by the probability it will not occur:\n",
    "\n",
    "$$O(X) = \\frac{P(X)}{1 - P(X)}$$\n",
    "$$O(X) = \\frac{.70}{1 - .70}$$\n",
    "$$O(X) = \\frac{7}{3}$$"
   ]
  },
  {
   "cell_type": "markdown",
   "metadata": {},
   "source": [
    "#### ODDS ARE USEFUL!\n",
    "If I have an odds of 2.0, that means I feel event is two times more likely to happen than not to happen. That can be more intuitive to describe a belief than a percentage of 66.66%"
   ]
  },
  {
   "cell_type": "markdown",
   "metadata": {},
   "source": [
    "### Joint Probabilities\n",
    "\n",
    "joint probability is the probability of two or more events occuring simultaneously. We can calculate the joint probability of two events by multiplying the probability of one event by the probability of another event.\n",
    "\n",
    "Lets say we have a coin and a 6 sixed die and want to calculate the probability of flipping heads and a 6\n",
    "\n",
    "Let A be the event of flipping heads and B be the event of rolling a 6\n",
    "\n",
    "$$P(A) = \\frac{1}{2}$$\n",
    "$$P(B) = \\frac{1}{6}$$\n",
    "$$P(A \\cap B) = P(A) * P(B) = \\frac{1}{2} * \\frac{1}{6} = \\frac{1}{12} = .08333$$"
   ]
  },
  {
   "cell_type": "markdown",
   "metadata": {},
   "source": [
    "### Union Probabilities\n",
    "\n",
    "Union probability is the probability of one event or another event occuring. We can calculate the union probability of two events by adding the probability of one event to the probability of another event and subtracting the joint probability of both events.\n",
    "\n",
    "\n",
    "Let's start with <i>mutually exclusive</i> events, If I roll one die I can't simultaneously get a 4 and a 6. The union probability for these is easy\n",
    "\n",
    "$$P(4 \\:OR\\: 6) = \\frac{1}{6} + \\frac{1}{6} = \\frac{2}{6} = \\frac{1}{3} = .3333$$\n",
    "\n",
    "For non <i>mutually exlusive</i> events, we need to subtract the joint probability of both events. If I roll one die, I can get a 4 or a 6, but not both. The union probability for these is:\n",
    "\n",
    "$$P(A \\: OR \\: B) = P(A) + P(B) - P(A \\cap B)$$\n",
    "$$P(A \\:OR \\: B) = P(A) + P(B) - P(A) \\: * \\: P(B)$$\n",
    "\n",
    "The probability of rolling P(heads) = .5 and P(6) = .1666 is:\n",
    "$$ P(heads \\: OR\\: 6) = .5 + .1666 - (.5 * .1666) = .5833$$\n",
    "<br><br>\n",
    "\n"
   ]
  },
  {
   "cell_type": "markdown",
   "metadata": {},
   "source": [
    "### Conditional Probability and Bayes' Theorem\n",
    "\n",
    "**Conditional Probability**\n",
    "\n",
    "Conditional probability is the probability of event A occuring given event B has occured. It is typically expressed as $$P(A | B)$$ read as \"the probability of A given B\"\n",
    "<br><br>\n",
    "\n",
    "**Bayes' Theorem**\n",
    "\n",
    "P(Coffee) = .65<br>\n",
    "P(Cancer) = .005<br>\n",
    "P(Coffee|Cancer) = .85<br>\n",
    "\n",
    "$$P(A|B) = \\frac{P(B|A)*P(A)}{P(B)}$$\n",
    "$$P(Cancer|Coffee) = \\frac{P(Coffee|Cancer) * P(Cancer)}{P(Coffee)}$$\n",
    "$$P(Cancer|Coffee) = \\frac{.85 * .005}{.65} = .0065$$\n",
    "\n"
   ]
  },
  {
   "cell_type": "code",
   "execution_count": 33,
   "metadata": {},
   "outputs": [
    {
     "name": "stdout",
     "output_type": "stream",
     "text": [
      "0.006538461538461539\n"
     ]
    }
   ],
   "source": [
    "p_coffee_drinker = 0.65\n",
    "p_cancer = .005\n",
    "p_coffee_drinker_given_cancer = .85\n",
    "\n",
    "p_cancer_given_coffee_drinker = (p_coffee_drinker_given_cancer * p_cancer) / p_coffee_drinker\n",
    "print(p_cancer_given_coffee_drinker)"
   ]
  },
  {
   "cell_type": "markdown",
   "metadata": {},
   "source": [
    "### Joint and Union Conditional Probabilities\n",
    "\n",
    "\n",
    "**Joint Probability**\n",
    "\n",
    "I want to find the probability somebody is a coffee drinker AND they have cancer.\n",
    "$$P(Coffee \\: and \\: Cancer)$$\n",
    "\n",
    "**Option 1**: If we don't have any conditional probability available best we can do is:\n",
    "\n",
    "$$P(Coffee) * P(Cancer) = .65 * .005 = .00325$$\n",
    "\n",
    "**Option 2**: If conditional probability is available, what we can do is:\n",
    "\n",
    "$$P(Coffee | Cancer) * P(Cancer) = .85 * .005 = .00425$$\n",
    "\n",
    "or we can do it the other way\n",
    "$$P(Cancer | Coffee) * P(Coffee) = .65 * .005 = .00425$$\n",
    "\n",
    "so are final formula for joint and conditional probability is:\n",
    "$$P(A \\cap B) = P(A|B) * P(B)$$\n",
    "\n",
    "\n",
    "**Union Probability**\n",
    "\n",
    "$$P(A \\: OR \\: B) = P(A) + P(B) - P(A|B) * P(B)$$ "
   ]
  },
  {
   "cell_type": "markdown",
   "metadata": {},
   "source": [
    "### Binomial Distribution\n",
    "\n",
    "The binomial distribution is a discrete probability distribution that describes the probability of a success or failure outcome in an experiment that is repeated multiple times. The binomial distribution assumes a result of one trial is not affected by the outcome of another trial. The binomial distribution is also known as the binomial probability distribution or the Bernoulli distribution.\n",
    "\n",
    "The binomial distribution formula is:\n",
    "$$P(X) = C(n, k) * p^k * (1-p)^{n-k}$$\n",
    "$$P(X) = \\binom{n}{k} * p^k * (1-p)^{n-k}$$\n",
    "$$P(X) = \\frac{n!}{k!(n-k)!} * p^k * (1-p)^{n-k}$$\n",
    "\n",
    "where:\n",
    "- n = number of trials\n",
    "- k = number of successes\n",
    "- p = probability of success in one trial"
   ]
  },
  {
   "cell_type": "code",
   "execution_count": 34,
   "metadata": {},
   "outputs": [
    {
     "data": {
      "text/plain": [
       "0.38742048900000003"
      ]
     },
     "execution_count": 34,
     "metadata": {},
     "output_type": "execute_result"
    }
   ],
   "source": [
    "from math import factorial\n",
    "\n",
    "\n",
    "def binom_distr(k, n, p):\n",
    "  return (factorial(n) / (factorial(k) * factorial(n - k))) * (p ** k) * ((1 - p) ** (n - k))\n",
    "\n",
    "binom_distr(9, 10, 0.9)"
   ]
  },
  {
   "cell_type": "code",
   "execution_count": 35,
   "metadata": {},
   "outputs": [
    {
     "data": {
      "text/plain": [
       "0.38742048900000003"
      ]
     },
     "execution_count": 35,
     "metadata": {},
     "output_type": "execute_result"
    }
   ],
   "source": [
    "def factorial(n):\n",
    "  fact = 1\n",
    "  for i in range(n):\n",
    "    i += 1\n",
    "    fact *= i\n",
    "  return fact\n",
    "\n",
    "def binom_distr(k, n, p):\n",
    "  return (factorial(n) / (factorial(k) * factorial(n - k))) * (p ** k) * ((1 -p)**(n - k))\n",
    "\n",
    "binom_distr(9, 10, 0.9)"
   ]
  },
  {
   "cell_type": "code",
   "execution_count": 36,
   "metadata": {},
   "outputs": [
    {
     "name": "stdout",
     "output_type": "stream",
     "text": [
      "0 - 9.999999999999981e-11\n",
      "1 - 8.999999999999986e-09\n",
      "2 - 3.644999999999997e-07\n",
      "3 - 8.747999999999995e-06\n",
      "4 - 0.00013778099999999982\n",
      "5 - 0.0014880347999999988\n",
      "6 - 0.011160261000000001\n",
      "7 - 0.05739562799999998\n",
      "8 - 0.1937102445\n",
      "9 - 0.387420489\n",
      "10 - 0.3486784401000001\n"
     ]
    }
   ],
   "source": [
    "from scipy.stats import binom\n",
    "\n",
    "n = 10\n",
    "p = 0.9\n",
    "\n",
    "total_probability = 0\n",
    "for k in range(n + 1):\n",
    "  probability = binom.pmf(k, n, p)\n",
    "  total_probability += probability\n",
    "  # print(\"Total probability: {0}\".format(total_probability))\n",
    "  print(\"{0} - {1}\".format(k, probability))\n",
    "  # print('\\n')"
   ]
  },
  {
   "cell_type": "markdown",
   "metadata": {},
   "source": [
    "### Beta Distribution\n",
    "\n",
    "The beta distribution allows us to see the likelihood of different underlying probabilites for an event to occur given alpha successes and beta failures."
   ]
  },
  {
   "cell_type": "code",
   "execution_count": 37,
   "metadata": {},
   "outputs": [
    {
     "name": "stdout",
     "output_type": "stream",
     "text": [
      "0.7748409780000002\n",
      "area in a beta distribution: 0.22515902199999982\n"
     ]
    }
   ],
   "source": [
    "from scipy.stats import beta\n",
    "\n",
    "a = 8 # number of successes\n",
    "b = 2 # number of failures\n",
    "\n",
    "p = beta.cdf(.90, a, b)\n",
    "print(p)\n",
    "print('area in a beta distribution: {}'.format(1 - p))"
   ]
  },
  {
   "cell_type": "code",
   "execution_count": 38,
   "metadata": {},
   "outputs": [
    {
     "name": "stdout",
     "output_type": "stream",
     "text": [
      "0.13163577484183697\n"
     ]
    }
   ],
   "source": [
    "a = 30\n",
    "b = 6\n",
    "p = 1.0 - beta.cdf(0.90, a, b)\n",
    "print(p)"
   ]
  },
  {
   "cell_type": "code",
   "execution_count": 39,
   "metadata": {},
   "outputs": [
    {
     "name": "stdout",
     "output_type": "stream",
     "text": [
      "0.5962725311986752\n"
     ]
    }
   ],
   "source": [
    "# to find the area in the middle\n",
    "a = 30\n",
    "b = 6\n",
    "p = beta.cdf(0.90, a, b) - beta.cdf(0.80, a, b)\n",
    "print(p)"
   ]
  },
  {
   "cell_type": "markdown",
   "metadata": {},
   "source": [
    "### Exercises"
   ]
  },
  {
   "cell_type": "markdown",
   "metadata": {},
   "source": [
    "1. There is a 30% chance of rain today, and a 40% chance your umbrella order will arrive on time.</br> You are eager to walk in the rain today and cannot do so without either! What is the probability that you will be able to walk in the rain today?"
   ]
  },
  {
   "cell_type": "code",
   "execution_count": 40,
   "metadata": {},
   "outputs": [
    {
     "name": "stdout",
     "output_type": "stream",
     "text": [
      "0.12\n"
     ]
    }
   ],
   "source": [
    "# joint probability problem\n",
    "\n",
    "# P(A and B) = P(A) * P(B)\n",
    "p_rain = 0.30\n",
    "p_umbrella = 0.40\n",
    "p_walking = p_rain * p_umbrella\n",
    "print(p_walking)"
   ]
  },
  {
   "cell_type": "markdown",
   "metadata": {},
   "source": [
    "2. There is a 30% chance of rain today, and a 40% chance your umbrella will arrive on time.<br>\n",
    "You will be able to run errands only if it does not rain or your umbrella arrives.<br>\n",
    "What is the probability it will not rain OR your umbrella arrives?"
   ]
  },
  {
   "cell_type": "code",
   "execution_count": 41,
   "metadata": {},
   "outputs": [
    {
     "name": "stdout",
     "output_type": "stream",
     "text": [
      "0.9800000000000001\n"
     ]
    }
   ],
   "source": [
    "# non mutually exclusive union probability\n",
    "# P(A or B) = P(A) + P(B) - P(A and B)\n",
    "p_rain = 0.30\n",
    "p_umbrella = 0.40\n",
    "p_no_rain = 1 - p_rain\n",
    "\n",
    "p_not_rain_or_umbrella = (p_no_rain + p_umbrella) - (p_rain * p_umbrella)\n",
    "print(p_not_rain_or_umbrella)\n"
   ]
  },
  {
   "cell_type": "markdown",
   "metadata": {},
   "source": [
    "3. There is a 30% chance of rain today, and 40% chance your umbrella order will arrive on time.<br>\n",
    "However, you found out if it rains there is only a 20% chance your umbrella will arrive on time.<br>\n",
    "What is the probability it will rain AND your umbrella will arrive on time?"
   ]
  },
  {
   "cell_type": "code",
   "execution_count": 42,
   "metadata": {},
   "outputs": [
    {
     "name": "stdout",
     "output_type": "stream",
     "text": [
      "0.06\n"
     ]
    }
   ],
   "source": [
    "# Conditional probability\n",
    "# P(p_rain | p_umblrella) = (P(p_umbrella | p_rain) * p_rain) / p_umbrella\n",
    "\n",
    "p_rain = 0.30\n",
    "p_umbrella = 0.40\n",
    "p_umbrella_if_it_rains = 0.20\n",
    "p_rain_and_umbrella = (p_umbrella_if_it_rains * p_rain)\n",
    "print(p_rain_and_umbrella)"
   ]
  },
  {
   "cell_type": "markdown",
   "metadata": {},
   "source": [
    "4. You have 137 passengers booked on a flight from Las Vegas to Dallas.</br>However, it is Las Vegas on a Sunday morning and you estimate each passenger is 40% likely to not show up. </br>You are trying to figure out how many seats to overbook so the plane does not fly empty.</br> How likely is it at least 50 passengers will not show up?"
   ]
  },
  {
   "cell_type": "code",
   "execution_count": 49,
   "metadata": {},
   "outputs": [
    {
     "name": "stdout",
     "output_type": "stream",
     "text": [
      "Total probability: 0.8220955881474249\n"
     ]
    }
   ],
   "source": [
    "# Binomial distribution\n",
    "p = 0.40\n",
    "n = 137\n",
    "k = 50\n",
    "\n",
    "total_probability = 0\n",
    "for x in range(k, (n + 1)):\n",
    "  probability = binom.pmf(x, n, p)\n",
    "  total_probability += probability\n",
    "print(\"Total probability: {0}\".format(total_probability))"
   ]
  },
  {
   "cell_type": "markdown",
   "metadata": {},
   "source": [
    "5. You flipped a coin 19 times and got heads 15 times and tails 4 times. Do you think this coin has any good probability of being fair? Why or why not?"
   ]
  },
  {
   "cell_type": "code",
   "execution_count": 54,
   "metadata": {},
   "outputs": [
    {
     "name": "stdout",
     "output_type": "stream",
     "text": [
      "0.9962310791015625\n"
     ]
    }
   ],
   "source": [
    "heads = 15 # number of successes\n",
    "tail = 4 # number of failures\n",
    "\n",
    "p = 1.0 -  beta.cdf(.50, heads, tail)\n",
    "print(p)\n",
    "\n",
    "# the coin is unlikely to be fair"
   ]
  },
  {
   "cell_type": "code",
   "execution_count": null,
   "metadata": {},
   "outputs": [],
   "source": []
  }
 ],
 "metadata": {
  "kernelspec": {
   "display_name": "math_env",
   "language": "python",
   "name": "python3"
  },
  "language_info": {
   "codemirror_mode": {
    "name": "ipython",
    "version": 3
   },
   "file_extension": ".py",
   "mimetype": "text/x-python",
   "name": "python",
   "nbconvert_exporter": "python",
   "pygments_lexer": "ipython3",
   "version": "3.10.13"
  },
  "orig_nbformat": 4
 },
 "nbformat": 4,
 "nbformat_minor": 2
}
