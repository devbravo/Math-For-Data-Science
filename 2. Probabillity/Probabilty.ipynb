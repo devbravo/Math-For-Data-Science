{
 "cells": [
  {
   "cell_type": "markdown",
   "metadata": {},
   "source": [
    "## Probability\n",
    "\n",
    "**Probability** is how strongly we believe an event will happen, often expressed as a percentage. Probabilty is often expressed as a percentage, as in \"There is a 70% chance my flight will be late.\" We will call this probability P(X)\n",
    "\n",
    "**Likelihood** is measuring the frequency of events that already occurred. \n",
    "\n",
    "In statistics and machine learning, we often use likelihood (the past) in the form of data to predict probability (the future)\n",
    "\n",
    "if $$P(X) = .70$$\n",
    "$$P(not X) = 1 - P(X) = .30$$\n",
    "\n"
   ]
  },
  {
   "cell_type": "markdown",
   "metadata": {},
   "source": [
    "Another distrinction between probability and lilkelihood is that probability is a value between 0 and 1, while likelihood can be any positive number.\n",
    "\n",
    "Alternatively, probability can be expressed as an odds O(x) such as 7:3, 7/3, or 2.333\n",
    "\n",
    "To turn an odds O(X) into a proportional probability P(X), use the following formula:\n",
    "\n",
    "$$P(X) = \\frac{O(X)}{1 + O(X)}$$\n",
    "\n",
    "e.g O(X) = 7:3 = 7/3 = 2.333 to convert to a proportional probability we would calculate:\n",
    "$$ P(X) = \\frac{\\frac{7}{3}}{1 + \\frac{7}{3}}$$\n",
    "$$ P(X) = .7$$\n",
    "\n",
    "Conversely, you can torn an odds into a probability by simply dividing the probability of the event occurring by the probability it will not occur:\n",
    "\n",
    "$$O(X) = \\frac{P(X)}{1 - P(X)}$$\n",
    "$$O(X) = \\frac{.70}{1 - .70}$$\n",
    "$$O(X) = \\frac{7}{3}$$"
   ]
  },
  {
   "cell_type": "markdown",
   "metadata": {},
   "source": [
    "#### ODDS ARE USEFUL!\n",
    "If I have an odds of 2.0, that means I feel event is two times more likely to happen than not to happen. That can be more intuitive to describe a belief than a percentage of 66.66%"
   ]
  },
  {
   "cell_type": "markdown",
   "metadata": {},
   "source": [
    "### Joint Probabilities\n",
    "\n",
    "joint probability is the probability of two or more events occuring simultaneously. We can calculate the joint probability of two events by multiplying the probability of one event by the probability of another event.\n",
    "\n",
    "Lets say we have a coin and a 6 sixed die and want to calculate the probability of flipping heads and a 6\n",
    "\n",
    "Let A be the event of flipping heads and B be the event of rolling a 6\n",
    "\n",
    "$$P(A) = \\frac{1}{2}$$\n",
    "$$P(B) = \\frac{1}{6}$$\n",
    "$$P(A \\cap B) = P(A) * P(B) = \\frac{1}{2} * \\frac{1}{6} = \\frac{1}{12} = .08333$$"
   ]
  },
  {
   "cell_type": "markdown",
   "metadata": {},
   "source": [
    "### Union Probabilities\n",
    "\n",
    "Union probability is the probability of one event or another event occuring. We can calculate the union probability of two events by adding the probability of one event to the probability of another event and subtracting the joint probability of both events.\n",
    "\n",
    "\n",
    "Let's start with <i>mutually exclusive</i> events, If I roll one die I can't simultaneously get a 4 and a 6. The union probability for these is easy\n",
    "\n",
    "$$P(4 \\:OR\\: 6) = \\frac{1}{6} + \\frac{1}{6} = \\frac{2}{6} = \\frac{1}{3} = .3333$$\n",
    "\n",
    "For non <i>mutually exlusive</i> events, we need to subtract the joint probability of both events. If I roll one die, I can get a 4 or a 6, but not both. The union probability for these is:\n",
    "\n",
    "$$P(A \\: OR \\: B) = P(A) + P(B) - P(A \\cap B)$$\n",
    "$$P(A \\:OR \\: B) = P(A) + P(B) - P(A) \\: * \\: P(B)$$\n",
    "\n",
    "The probability of rolling P(heads) = .5 and P(6) = .1666 is:\n",
    "$$ P(heads \\: OR\\: 6) = .5 + .1666 - (.5 * .1666) = .5833$$\n",
    "<br><br>\n",
    "\n"
   ]
  },
  {
   "cell_type": "markdown",
   "metadata": {},
   "source": [
    "### Conditional Probability and Bayes' Theorem\n",
    "\n",
    "**Conditional Probability**\n",
    "\n",
    "Conditional probability is the probability of event A occuring given event B has occured. It is typically expressed as $$P(A | B)$$ read as \"the probability of A given B\"\n",
    "<br><br>\n",
    "\n",
    "**Bayes' Theorem**\n",
    "\n",
    "P(Coffee) = .65<br>\n",
    "P(Cancer) = .005<br>\n",
    "P(Coffee|Cancer) = .85<br>\n",
    "\n",
    "$$P(A|B) = \\frac{P(B|A)*P(A)}{P(B)}$$\n",
    "$$P(Cancer|Coffee) = \\frac{P(Coffee|Cancer) * P(Cancer)}{P(Coffee)}$$\n",
    "$$P(Cancer|Coffee) = \\frac{.85 * .005}{.65} = .0065$$\n",
    "\n"
   ]
  },
  {
   "cell_type": "code",
   "execution_count": 1,
   "metadata": {},
   "outputs": [
    {
     "name": "stdout",
     "output_type": "stream",
     "text": [
      "0.006538461538461539\n"
     ]
    }
   ],
   "source": [
    "p_coffee_drinker = 0.65\n",
    "p_cancer = .005\n",
    "p_coffee_drinker_given_cancer = .85\n",
    "\n",
    "p_cancer_given_coffee_drinker = (p_coffee_drinker_given_cancer * p_cancer) / p_coffee_drinker\n",
    "print(p_cancer_given_coffee_drinker)"
   ]
  },
  {
   "cell_type": "markdown",
   "metadata": {},
   "source": [
    "### Joint and Union Conditional Probabilities\n",
    "\n",
    "\n",
    "**Joint Probability**\n",
    "\n",
    "I want to find the probability somebody is a coffee drinker AND they have cancer.\n",
    "$$P(Coffee \\: and \\: Cancer)$$\n",
    "\n",
    "**Option 1**: If we don't have any conditional probability available best we can do is:\n",
    "\n",
    "$$P(Coffee) * P(Cancer) = .65 * .005 = .00325$$\n",
    "\n",
    "**Option 2**: If conditional probability is available, what we can do is:\n",
    "\n",
    "$$P(Coffee | Cancer) * P(Cancer) = .85 * .005 = .00425$$\n",
    "\n",
    "or we can do it the other way\n",
    "$$P(Cancer | Coffee) * P(Coffee) = .65 * .005 = .00425$$\n",
    "\n",
    "so are final formula for joint and conditional probability is:\n",
    "$$P(A \\cap B) = P(A|B) * P(B)$$\n",
    "\n",
    "\n",
    "**Union Probability**\n",
    "\n",
    "$$P(A \\: or \\: B) = P(A) + P(B) - P(A|B) * P(B)$$ "
   ]
  },
  {
   "cell_type": "code",
   "execution_count": null,
   "metadata": {},
   "outputs": [],
   "source": []
  }
 ],
 "metadata": {
  "kernelspec": {
   "display_name": "math_env",
   "language": "python",
   "name": "python3"
  },
  "language_info": {
   "codemirror_mode": {
    "name": "ipython",
    "version": 3
   },
   "file_extension": ".py",
   "mimetype": "text/x-python",
   "name": "python",
   "nbconvert_exporter": "python",
   "pygments_lexer": "ipython3",
   "version": "3.10.13"
  },
  "orig_nbformat": 4
 },
 "nbformat": 4,
 "nbformat_minor": 2
}
